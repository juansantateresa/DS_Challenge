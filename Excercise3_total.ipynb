{
 "cells": [
  {
   "cell_type": "code",
   "execution_count": 1,
   "metadata": {},
   "outputs": [],
   "source": [
    "import pandas as pd\n",
    "import numpy as np\n",
    "import matplotlib.pyplot as plt"
   ]
  },
  {
   "cell_type": "code",
   "execution_count": 15,
   "metadata": {},
   "outputs": [],
   "source": [
    "searches_iter = pd.read_csv(\n",
    "   'searches.csv.bz2',\n",
    "    compression='bz2',\n",
    "    engine='c',\n",
    "    chunksize=1000,\n",
    "    parse_dates=[\"Date\"],\n",
    "    usecols=['Date', 'Destination'],\n",
    "    delimiter=\"^\",\n",
    "    iterator = True\n",
    "\n",
    ")"
   ]
  },
  {
   "cell_type": "code",
   "execution_count": 18,
   "metadata": {},
   "outputs": [],
   "source": [
    "df = pd.concat(searches_iter, ignore_index=True)"
   ]
  },
  {
   "cell_type": "code",
   "execution_count": 21,
   "metadata": {},
   "outputs": [
    {
     "data": {
      "text/plain": [
       "<bound method DataFrame.info of                          Date Destination\n",
       "0         2013-01-02 00:00:00         SYD\n",
       "1         2013-01-02 00:00:00         JFK\n",
       "2         2013-01-02 00:00:00         OSL\n",
       "3         2013-01-02 00:00:00         AYT\n",
       "4         2013-01-02 00:00:00         BKK\n",
       "...                       ...         ...\n",
       "20389193  2013-10-13 00:00:00         NBO\n",
       "20389194  2013-10-13 00:00:00         ALA\n",
       "20389195  2013-10-13 00:00:00         LHR\n",
       "20389196  2013-10-13 00:00:00         MAD\n",
       "20389197  2013-10-13 00:00:00          HA\n",
       "\n",
       "[20389198 rows x 2 columns]>"
      ]
     },
     "execution_count": 21,
     "metadata": {},
     "output_type": "execute_result"
    }
   ],
   "source": []
  },
  {
   "cell_type": "code",
   "execution_count": 34,
   "metadata": {},
   "outputs": [],
   "source": [
    "from datetime import datetime"
   ]
  },
  {
   "cell_type": "code",
   "execution_count": 40,
   "metadata": {},
   "outputs": [
    {
     "data": {
      "text/plain": [
       "['Date', 'Destination']"
      ]
     },
     "execution_count": 40,
     "metadata": {},
     "output_type": "execute_result"
    }
   ],
   "source": [
    "list(df.columns)"
   ]
  },
  {
   "cell_type": "code",
   "execution_count": 46,
   "metadata": {},
   "outputs": [],
   "source": [
    "df['Date'] = pd.to_datetime(df.Date, format='%Y-%m-%d %H:%M:%S', errors='coerce')"
   ]
  },
  {
   "cell_type": "code",
   "execution_count": 47,
   "metadata": {},
   "outputs": [],
   "source": [
    "df['Month'] = df.Date.dt.month"
   ]
  },
  {
   "cell_type": "code",
   "execution_count": 49,
   "metadata": {},
   "outputs": [
    {
     "data": {
      "text/html": [
       "<div>\n",
       "<style scoped>\n",
       "    .dataframe tbody tr th:only-of-type {\n",
       "        vertical-align: middle;\n",
       "    }\n",
       "\n",
       "    .dataframe tbody tr th {\n",
       "        vertical-align: top;\n",
       "    }\n",
       "\n",
       "    .dataframe thead th {\n",
       "        text-align: right;\n",
       "    }\n",
       "</style>\n",
       "<table border=\"1\" class=\"dataframe\">\n",
       "  <thead>\n",
       "    <tr style=\"text-align: right;\">\n",
       "      <th></th>\n",
       "      <th>Date</th>\n",
       "      <th>Destination</th>\n",
       "      <th>Month</th>\n",
       "    </tr>\n",
       "  </thead>\n",
       "  <tbody>\n",
       "    <tr>\n",
       "      <td>0</td>\n",
       "      <td>2013-01-02</td>\n",
       "      <td>SYD</td>\n",
       "      <td>1.0</td>\n",
       "    </tr>\n",
       "    <tr>\n",
       "      <td>1</td>\n",
       "      <td>2013-01-02</td>\n",
       "      <td>JFK</td>\n",
       "      <td>1.0</td>\n",
       "    </tr>\n",
       "    <tr>\n",
       "      <td>2</td>\n",
       "      <td>2013-01-02</td>\n",
       "      <td>OSL</td>\n",
       "      <td>1.0</td>\n",
       "    </tr>\n",
       "    <tr>\n",
       "      <td>3</td>\n",
       "      <td>2013-01-02</td>\n",
       "      <td>AYT</td>\n",
       "      <td>1.0</td>\n",
       "    </tr>\n",
       "    <tr>\n",
       "      <td>4</td>\n",
       "      <td>2013-01-02</td>\n",
       "      <td>BKK</td>\n",
       "      <td>1.0</td>\n",
       "    </tr>\n",
       "    <tr>\n",
       "      <td>...</td>\n",
       "      <td>...</td>\n",
       "      <td>...</td>\n",
       "      <td>...</td>\n",
       "    </tr>\n",
       "    <tr>\n",
       "      <td>20389193</td>\n",
       "      <td>2013-10-13</td>\n",
       "      <td>NBO</td>\n",
       "      <td>10.0</td>\n",
       "    </tr>\n",
       "    <tr>\n",
       "      <td>20389194</td>\n",
       "      <td>2013-10-13</td>\n",
       "      <td>ALA</td>\n",
       "      <td>10.0</td>\n",
       "    </tr>\n",
       "    <tr>\n",
       "      <td>20389195</td>\n",
       "      <td>2013-10-13</td>\n",
       "      <td>LHR</td>\n",
       "      <td>10.0</td>\n",
       "    </tr>\n",
       "    <tr>\n",
       "      <td>20389196</td>\n",
       "      <td>2013-10-13</td>\n",
       "      <td>MAD</td>\n",
       "      <td>10.0</td>\n",
       "    </tr>\n",
       "    <tr>\n",
       "      <td>20389197</td>\n",
       "      <td>2013-10-13</td>\n",
       "      <td>HA</td>\n",
       "      <td>10.0</td>\n",
       "    </tr>\n",
       "  </tbody>\n",
       "</table>\n",
       "<p>20389198 rows × 3 columns</p>\n",
       "</div>"
      ],
      "text/plain": [
       "               Date Destination  Month\n",
       "0        2013-01-02         SYD    1.0\n",
       "1        2013-01-02         JFK    1.0\n",
       "2        2013-01-02         OSL    1.0\n",
       "3        2013-01-02         AYT    1.0\n",
       "4        2013-01-02         BKK    1.0\n",
       "...             ...         ...    ...\n",
       "20389193 2013-10-13         NBO   10.0\n",
       "20389194 2013-10-13         ALA   10.0\n",
       "20389195 2013-10-13         LHR   10.0\n",
       "20389196 2013-10-13         MAD   10.0\n",
       "20389197 2013-10-13          HA   10.0\n",
       "\n",
       "[20389198 rows x 3 columns]"
      ]
     },
     "execution_count": 49,
     "metadata": {},
     "output_type": "execute_result"
    }
   ],
   "source": []
  },
  {
   "cell_type": "code",
   "execution_count": null,
   "metadata": {},
   "outputs": [],
   "source": []
  }
 ],
 "metadata": {
  "kernelspec": {
   "display_name": "Python 3",
   "language": "python",
   "name": "python3"
  },
  "language_info": {
   "codemirror_mode": {
    "name": "ipython",
    "version": 3
   },
   "file_extension": ".py",
   "mimetype": "text/x-python",
   "name": "python",
   "nbconvert_exporter": "python",
   "pygments_lexer": "ipython3",
   "version": "3.7.4"
  }
 },
 "nbformat": 4,
 "nbformat_minor": 2
}
