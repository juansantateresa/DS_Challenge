{
 "cells": [
  {
   "cell_type": "code",
   "execution_count": 1,
   "metadata": {},
   "outputs": [],
   "source": [
    "import pandas as pd\n",
    "import numpy as np"
   ]
  },
  {
   "cell_type": "code",
   "execution_count": 33,
   "metadata": {},
   "outputs": [],
   "source": [
    "big_chunk = 10000\n",
    "\n",
    "bookings_iter = pd.read_csv(\n",
    "                            'bookings.csv.bz2',\n",
    "                            compression ='bz2',\n",
    "                            engine = 'c',\n",
    "                            chunksize = big_chunk,\n",
    "                            usecols = ['arr_port','pax'],\n",
    "                            sep = '^'                                                       \n",
    "\n",
    "\n",
    "\n",
    "                                )"
   ]
  },
  {
   "cell_type": "markdown",
   "metadata": {},
   "source": [
    "rows_total = 0\n",
    "k = 0\n",
    "for bookings_chunk in bookings_iter:\n",
    "    booking_rows = bookings_chunk.shape[0]\n",
    "    rows_total += booking_rows\n",
    "    \n",
    "print(rows_total)\n",
    "    "
   ]
  },
  {
   "cell_type": "code",
   "execution_count": 34,
   "metadata": {},
   "outputs": [
    {
     "data": {
      "text/plain": [
       "10000010"
      ]
     },
     "execution_count": 34,
     "metadata": {},
     "output_type": "execute_result"
    }
   ],
   "source": [
    "sum (bookings_chunk.shape[0] for bookings_chunk in bookings_iter)"
   ]
  }
 ],
 "metadata": {
  "kernelspec": {
   "display_name": "Python 3",
   "language": "python",
   "name": "python3"
  },
  "language_info": {
   "codemirror_mode": {
    "name": "ipython",
    "version": 3
   },
   "file_extension": ".py",
   "mimetype": "text/x-python",
   "name": "python",
   "nbconvert_exporter": "python",
   "pygments_lexer": "ipython3",
   "version": "3.7.4"
  }
 },
 "nbformat": 4,
 "nbformat_minor": 2
}
